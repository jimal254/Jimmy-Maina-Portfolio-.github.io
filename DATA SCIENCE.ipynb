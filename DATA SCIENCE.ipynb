{
  "nbformat": 4,
  "nbformat_minor": 0,
  "metadata": {
    "colab": {
      "provenance": [],
      "mount_file_id": "1svZaBx4MFEFIodtrw6DTlAobGJi0oKnl",
      "authorship_tag": "ABX9TyNoxzXkXJ/bZM9gzY9r2n9r",
      "include_colab_link": true
    },
    "kernelspec": {
      "name": "python3",
      "display_name": "Python 3"
    },
    "language_info": {
      "name": "python"
    }
  },
  "cells": [
    {
      "cell_type": "markdown",
      "metadata": {
        "id": "view-in-github",
        "colab_type": "text"
      },
      "source": [
        "<a href=\"https://colab.research.google.com/github/jimal254/JimmyMTheAnalyst.github.io/blob/main/DATA%20SCIENCE.ipynb\" target=\"_parent\"><img src=\"https://colab.research.google.com/assets/colab-badge.svg\" alt=\"Open In Colab\"/></a>"
      ]
    },
    {
      "cell_type": "code",
      "source": [
        "\n",
        "import pandas as pd\n",
        "\n",
        "# Reading the data file\n",
        "df = pd.read_csv('university_enrollment_2306.csv')"
      ],
      "metadata": {
        "id": "arSLb7KcgwrY"
      },
      "execution_count": 2,
      "outputs": []
    },
    {
      "cell_type": "code",
      "source": [
        "df.head()"
      ],
      "metadata": {
        "colab": {
          "base_uri": "https://localhost:8080/",
          "height": 206
        },
        "id": "Z1le0AvYQYZn",
        "outputId": "f50dba65-4038-4464-8ea7-cf2e4f199691"
      },
      "execution_count": 51,
      "outputs": [
        {
          "output_type": "execute_result",
          "data": {
            "text/plain": [
              "   course_id course_type  year  enrollment_count pre_score  post_score  \\\n",
              "0          1   classroom  2018               165     28.14        73.0   \n",
              "1          2   classroom  2020               175     79.68        86.0   \n",
              "2          3      online  2016               257     57.24        80.0   \n",
              "3          4      online  2013               251     97.67        75.0   \n",
              "4          5   classroom  2019               165     39.75        76.0   \n",
              "\n",
              "  pre_requirement   department  \n",
              "0        Beginner      Science  \n",
              "1            None      Science  \n",
              "2            None  Mathematics  \n",
              "3        Beginner   Technology  \n",
              "4        Beginner      Science  "
            ],
            "text/html": [
              "\n",
              "  <div id=\"df-b2915c57-68d3-4e28-85ca-3335a480ce0b\">\n",
              "    <div class=\"colab-df-container\">\n",
              "      <div>\n",
              "<style scoped>\n",
              "    .dataframe tbody tr th:only-of-type {\n",
              "        vertical-align: middle;\n",
              "    }\n",
              "\n",
              "    .dataframe tbody tr th {\n",
              "        vertical-align: top;\n",
              "    }\n",
              "\n",
              "    .dataframe thead th {\n",
              "        text-align: right;\n",
              "    }\n",
              "</style>\n",
              "<table border=\"1\" class=\"dataframe\">\n",
              "  <thead>\n",
              "    <tr style=\"text-align: right;\">\n",
              "      <th></th>\n",
              "      <th>course_id</th>\n",
              "      <th>course_type</th>\n",
              "      <th>year</th>\n",
              "      <th>enrollment_count</th>\n",
              "      <th>pre_score</th>\n",
              "      <th>post_score</th>\n",
              "      <th>pre_requirement</th>\n",
              "      <th>department</th>\n",
              "    </tr>\n",
              "  </thead>\n",
              "  <tbody>\n",
              "    <tr>\n",
              "      <th>0</th>\n",
              "      <td>1</td>\n",
              "      <td>classroom</td>\n",
              "      <td>2018</td>\n",
              "      <td>165</td>\n",
              "      <td>28.14</td>\n",
              "      <td>73.0</td>\n",
              "      <td>Beginner</td>\n",
              "      <td>Science</td>\n",
              "    </tr>\n",
              "    <tr>\n",
              "      <th>1</th>\n",
              "      <td>2</td>\n",
              "      <td>classroom</td>\n",
              "      <td>2020</td>\n",
              "      <td>175</td>\n",
              "      <td>79.68</td>\n",
              "      <td>86.0</td>\n",
              "      <td>None</td>\n",
              "      <td>Science</td>\n",
              "    </tr>\n",
              "    <tr>\n",
              "      <th>2</th>\n",
              "      <td>3</td>\n",
              "      <td>online</td>\n",
              "      <td>2016</td>\n",
              "      <td>257</td>\n",
              "      <td>57.24</td>\n",
              "      <td>80.0</td>\n",
              "      <td>None</td>\n",
              "      <td>Mathematics</td>\n",
              "    </tr>\n",
              "    <tr>\n",
              "      <th>3</th>\n",
              "      <td>4</td>\n",
              "      <td>online</td>\n",
              "      <td>2013</td>\n",
              "      <td>251</td>\n",
              "      <td>97.67</td>\n",
              "      <td>75.0</td>\n",
              "      <td>Beginner</td>\n",
              "      <td>Technology</td>\n",
              "    </tr>\n",
              "    <tr>\n",
              "      <th>4</th>\n",
              "      <td>5</td>\n",
              "      <td>classroom</td>\n",
              "      <td>2019</td>\n",
              "      <td>165</td>\n",
              "      <td>39.75</td>\n",
              "      <td>76.0</td>\n",
              "      <td>Beginner</td>\n",
              "      <td>Science</td>\n",
              "    </tr>\n",
              "  </tbody>\n",
              "</table>\n",
              "</div>\n",
              "      <button class=\"colab-df-convert\" onclick=\"convertToInteractive('df-b2915c57-68d3-4e28-85ca-3335a480ce0b')\"\n",
              "              title=\"Convert this dataframe to an interactive table.\"\n",
              "              style=\"display:none;\">\n",
              "        \n",
              "  <svg xmlns=\"http://www.w3.org/2000/svg\" height=\"24px\"viewBox=\"0 0 24 24\"\n",
              "       width=\"24px\">\n",
              "    <path d=\"M0 0h24v24H0V0z\" fill=\"none\"/>\n",
              "    <path d=\"M18.56 5.44l.94 2.06.94-2.06 2.06-.94-2.06-.94-.94-2.06-.94 2.06-2.06.94zm-11 1L8.5 8.5l.94-2.06 2.06-.94-2.06-.94L8.5 2.5l-.94 2.06-2.06.94zm10 10l.94 2.06.94-2.06 2.06-.94-2.06-.94-.94-2.06-.94 2.06-2.06.94z\"/><path d=\"M17.41 7.96l-1.37-1.37c-.4-.4-.92-.59-1.43-.59-.52 0-1.04.2-1.43.59L10.3 9.45l-7.72 7.72c-.78.78-.78 2.05 0 2.83L4 21.41c.39.39.9.59 1.41.59.51 0 1.02-.2 1.41-.59l7.78-7.78 2.81-2.81c.8-.78.8-2.07 0-2.86zM5.41 20L4 18.59l7.72-7.72 1.47 1.35L5.41 20z\"/>\n",
              "  </svg>\n",
              "      </button>\n",
              "      \n",
              "  <style>\n",
              "    .colab-df-container {\n",
              "      display:flex;\n",
              "      flex-wrap:wrap;\n",
              "      gap: 12px;\n",
              "    }\n",
              "\n",
              "    .colab-df-convert {\n",
              "      background-color: #E8F0FE;\n",
              "      border: none;\n",
              "      border-radius: 50%;\n",
              "      cursor: pointer;\n",
              "      display: none;\n",
              "      fill: #1967D2;\n",
              "      height: 32px;\n",
              "      padding: 0 0 0 0;\n",
              "      width: 32px;\n",
              "    }\n",
              "\n",
              "    .colab-df-convert:hover {\n",
              "      background-color: #E2EBFA;\n",
              "      box-shadow: 0px 1px 2px rgba(60, 64, 67, 0.3), 0px 1px 3px 1px rgba(60, 64, 67, 0.15);\n",
              "      fill: #174EA6;\n",
              "    }\n",
              "\n",
              "    [theme=dark] .colab-df-convert {\n",
              "      background-color: #3B4455;\n",
              "      fill: #D2E3FC;\n",
              "    }\n",
              "\n",
              "    [theme=dark] .colab-df-convert:hover {\n",
              "      background-color: #434B5C;\n",
              "      box-shadow: 0px 1px 3px 1px rgba(0, 0, 0, 0.15);\n",
              "      filter: drop-shadow(0px 1px 2px rgba(0, 0, 0, 0.3));\n",
              "      fill: #FFFFFF;\n",
              "    }\n",
              "  </style>\n",
              "\n",
              "      <script>\n",
              "        const buttonEl =\n",
              "          document.querySelector('#df-b2915c57-68d3-4e28-85ca-3335a480ce0b button.colab-df-convert');\n",
              "        buttonEl.style.display =\n",
              "          google.colab.kernel.accessAllowed ? 'block' : 'none';\n",
              "\n",
              "        async function convertToInteractive(key) {\n",
              "          const element = document.querySelector('#df-b2915c57-68d3-4e28-85ca-3335a480ce0b');\n",
              "          const dataTable =\n",
              "            await google.colab.kernel.invokeFunction('convertToInteractive',\n",
              "                                                     [key], {});\n",
              "          if (!dataTable) return;\n",
              "\n",
              "          const docLinkHtml = 'Like what you see? Visit the ' +\n",
              "            '<a target=\"_blank\" href=https://colab.research.google.com/notebooks/data_table.ipynb>data table notebook</a>'\n",
              "            + ' to learn more about interactive tables.';\n",
              "          element.innerHTML = '';\n",
              "          dataTable['output_type'] = 'display_data';\n",
              "          await google.colab.output.renderOutput(dataTable, element);\n",
              "          const docLink = document.createElement('div');\n",
              "          docLink.innerHTML = docLinkHtml;\n",
              "          element.appendChild(docLink);\n",
              "        }\n",
              "      </script>\n",
              "    </div>\n",
              "  </div>\n",
              "  "
            ]
          },
          "metadata": {},
          "execution_count": 51
        }
      ]
    },
    {
      "cell_type": "code",
      "source": [
        "print(df.dtypes)  # Print the data types of each column\n"
      ],
      "metadata": {
        "colab": {
          "base_uri": "https://localhost:8080/"
        },
        "id": "Rr0veslHg0P6",
        "outputId": "6c44c9d5-2337-4da1-bb30-34f60a1ce102"
      },
      "execution_count": 3,
      "outputs": [
        {
          "output_type": "stream",
          "name": "stdout",
          "text": [
            "course_id             int64\n",
            "course_type          object\n",
            "year                  int64\n",
            "enrollment_count      int64\n",
            "pre_score            object\n",
            "post_score          float64\n",
            "pre_requirement      object\n",
            "department           object\n",
            "dtype: object\n"
          ]
        }
      ]
    },
    {
      "cell_type": "code",
      "source": [
        "import pandas as pd\n",
        "\n",
        "df = pd.read_csv('university_enrollment_2306.csv')\n",
        "df.info()\n"
      ],
      "metadata": {
        "colab": {
          "base_uri": "https://localhost:8080/"
        },
        "id": "Umb5Hg_thcY7",
        "outputId": "3562ab7b-335b-41fb-a3e4-cf2020d575d4"
      },
      "execution_count": 4,
      "outputs": [
        {
          "output_type": "stream",
          "name": "stdout",
          "text": [
            "<class 'pandas.core.frame.DataFrame'>\n",
            "RangeIndex: 1850 entries, 0 to 1849\n",
            "Data columns (total 8 columns):\n",
            " #   Column            Non-Null Count  Dtype  \n",
            "---  ------            --------------  -----  \n",
            " 0   course_id         1850 non-null   int64  \n",
            " 1   course_type       1850 non-null   object \n",
            " 2   year              1850 non-null   int64  \n",
            " 3   enrollment_count  1850 non-null   int64  \n",
            " 4   pre_score         1850 non-null   object \n",
            " 5   post_score        1665 non-null   float64\n",
            " 6   pre_requirement   1761 non-null   object \n",
            " 7   department        1850 non-null   object \n",
            "dtypes: float64(1), int64(3), object(4)\n",
            "memory usage: 115.8+ KB\n"
          ]
        }
      ]
    },
    {
      "cell_type": "code",
      "source": [
        "import pandas as pd\n",
        "\n",
        "df = pd.read_csv('university_enrollment_2306.csv')\n",
        "\n",
        "# Get a list of categorical columns\n",
        "categorical_columns = df.select_dtypes(include=['object']).columns\n",
        "\n",
        "# Validate each categorical column\n",
        "for column in categorical_columns:\n",
        "    print(f\"Column: {column}\")\n",
        "    print(df[column].value_counts())\n",
        "    print()\n"
      ],
      "metadata": {
        "colab": {
          "base_uri": "https://localhost:8080/"
        },
        "id": "uwDPaKyUiROV",
        "outputId": "7afb6b1c-9c52-4186-de98-2206907af733"
      },
      "execution_count": 5,
      "outputs": [
        {
          "output_type": "stream",
          "name": "stdout",
          "text": [
            "Column: course_type\n",
            "online       1375\n",
            "classroom     475\n",
            "Name: course_type, dtype: int64\n",
            "\n",
            "Column: pre_score\n",
            "-        130\n",
            "12.11      3\n",
            "51.95      3\n",
            "18.01      3\n",
            "23.66      3\n",
            "        ... \n",
            "13.76      1\n",
            "33.47      1\n",
            "18.42      1\n",
            "8.23       1\n",
            "17.57      1\n",
            "Name: pre_score, Length: 1594, dtype: int64\n",
            "\n",
            "Column: pre_requirement\n",
            "None            802\n",
            "Beginner        654\n",
            "Intermediate    305\n",
            "Name: pre_requirement, dtype: int64\n",
            "\n",
            "Column: department\n",
            "Technology     719\n",
            "Science        472\n",
            "Mathematics    220\n",
            "Math           220\n",
            "Engineering    219\n",
            "Name: department, dtype: int64\n",
            "\n"
          ]
        }
      ]
    },
    {
      "cell_type": "code",
      "source": [
        "import pandas as pd\n",
        "\n",
        "df = pd.read_csv('university_enrollment_2306.csv')\n",
        "\n",
        "# Get a list of numerical columns\n",
        "numerical_columns = df.select_dtypes(include=['int', 'float']).columns\n",
        "\n",
        "# Validate each numerical column using summary statistics\n",
        "for column in numerical_columns:\n",
        "    print(f\"Column: {column}\")\n",
        "    print(df[column].describe())\n",
        "    print()\n"
      ],
      "metadata": {
        "colab": {
          "base_uri": "https://localhost:8080/"
        },
        "id": "AOTfMJD9lnFx",
        "outputId": "309d6d43-ecf3-4668-95b2-7f28b406b0d3"
      },
      "execution_count": 6,
      "outputs": [
        {
          "output_type": "stream",
          "name": "stdout",
          "text": [
            "Column: course_id\n",
            "count    1850.000000\n",
            "mean      925.500000\n",
            "std       534.193317\n",
            "min         1.000000\n",
            "25%       463.250000\n",
            "50%       925.500000\n",
            "75%      1387.750000\n",
            "max      1850.000000\n",
            "Name: course_id, dtype: float64\n",
            "\n",
            "Column: year\n",
            "count    1850.000000\n",
            "mean     2016.423784\n",
            "std         3.448278\n",
            "min      2011.000000\n",
            "25%      2013.000000\n",
            "50%      2016.000000\n",
            "75%      2019.000000\n",
            "max      2022.000000\n",
            "Name: year, dtype: float64\n",
            "\n",
            "Column: enrollment_count\n",
            "count    1850.000000\n",
            "mean      231.565405\n",
            "std        36.987029\n",
            "min       154.000000\n",
            "25%       185.000000\n",
            "50%       251.000000\n",
            "75%       261.000000\n",
            "max       267.000000\n",
            "Name: enrollment_count, dtype: float64\n",
            "\n",
            "Column: post_score\n",
            "count    1665.000000\n",
            "mean       75.204805\n",
            "std         8.511981\n",
            "min        51.000000\n",
            "25%        69.000000\n",
            "50%        75.000000\n",
            "75%        81.000000\n",
            "max       105.000000\n",
            "Name: post_score, dtype: float64\n",
            "\n"
          ]
        }
      ]
    },
    {
      "cell_type": "code",
      "source": [
        "import pandas as pd\n",
        "import matplotlib.pyplot as plt\n",
        "import seaborn as sns\n",
        "\n",
        "df = pd.read_csv('university_enrollment_2306.csv')\n",
        "\n",
        "# Get a list of numerical columns\n",
        "numerical_columns = df.select_dtypes(include=['int', 'float']).columns\n",
        "\n",
        "# Validate each numerical column using distribution plots\n",
        "for column in numerical_columns:\n",
        "    plt.figure()\n",
        "    sns.histplot(df[column])\n",
        "    plt.title(column)\n",
        "    plt.show()\n"
      ],
      "metadata": {
        "colab": {
          "base_uri": "https://localhost:8080/",
          "height": 1000
        },
        "id": "qY3iO3uJmGnU",
        "outputId": "d950c1f0-7cc6-4b49-9979-42a781aebc41"
      },
      "execution_count": 7,
      "outputs": [
        {
          "output_type": "display_data",
          "data": {
            "text/plain": [
              "<Figure size 640x480 with 1 Axes>"
            ],
            "image/png": "[encoded data removed]"
          },
          "metadata": {}
        },
        {
          "output_type": "display_data",
          "data": {
            "text/plain": [
              "<Figure size 640x480 with 1 Axes>"
            ],
            "image/png": "[encoded data removed]"
          },
          "metadata": {}
        },
        {
          "output_type": "display_data",
          "data": {
            "text/plain": [
              "<Figure size 640x480 with 1 Axes>"
            ],
            "image/png": "[encoded data removed]"
          },
          "metadata": {}
        },
        {
          "output_type": "display_data",
          "data": {
            "text/plain": [
              "<Figure size 640x480 with 1 Axes>"
            ],
            "image/png": "[encoded data removed]"
          },
          "metadata": {}
        }
      ]
    },
    {
      "cell_type": "code",
      "source": [
        "import pandas as pd\n",
        "\n",
        "df = pd.read_csv('university_enrollment_2306.csv')\n",
        "\n",
        "# Check for missing values in each column\n",
        "missing_values = df.isnull().sum()\n",
        "\n",
        "# Print the count of missing values per column\n",
        "print(missing_values)\n"
      ],
      "metadata": {
        "colab": {
          "base_uri": "https://localhost:8080/"
        },
        "id": "C1iqCe_wmtpu",
        "outputId": "a8ec2722-60c6-466e-99fe-db69b0a40195"
      },
      "execution_count": 8,
      "outputs": [
        {
          "output_type": "stream",
          "name": "stdout",
          "text": [
            "course_id             0\n",
            "course_type           0\n",
            "year                  0\n",
            "enrollment_count      0\n",
            "pre_score             0\n",
            "post_score          185\n",
            "pre_requirement      89\n",
            "department            0\n",
            "dtype: int64\n"
          ]
        }
      ]
    },
    {
      "cell_type": "code",
      "source": [
        "import pandas as pd\n",
        "\n",
        "df = pd.read_csv('university_enrollment_2306.csv')\n",
        "\n",
        "# Calculate average score\n",
        "average_score = df.loc[df['post_score'].notnull(), 'post_score'].mean()\n",
        "\n",
        "# Fill missing values with average score\n",
        "df['post_score'].fillna(average_score, inplace=True)\n",
        "\n",
        "# Print the modified DataFrame\n",
        "print(df)\n"
      ],
      "metadata": {
        "colab": {
          "base_uri": "https://localhost:8080/"
        },
        "id": "YlapY0bto0Pe",
        "outputId": "d89c782d-3457-48ad-8827-2eb525592390"
      },
      "execution_count": 14,
      "outputs": [
        {
          "output_type": "stream",
          "name": "stdout",
          "text": [
            "      course_id course_type  year  enrollment_count pre_score  post_score  \\\n",
            "0             1   classroom  2018               165     28.14        73.0   \n",
            "1             2   classroom  2020               175     79.68        86.0   \n",
            "2             3      online  2016               257     57.24        80.0   \n",
            "3             4      online  2013               251     97.67        75.0   \n",
            "4             5   classroom  2019               165     39.75        76.0   \n",
            "...         ...         ...   ...               ...       ...         ...   \n",
            "1845       1846   classroom  2018               155     60.01        81.0   \n",
            "1846       1847      online  2016               261     94.27        85.0   \n",
            "1847       1848      online  2011               257        76        81.0   \n",
            "1848       1849      online  2013               256     20.67        66.0   \n",
            "1849       1850      online  2017               256     17.57        72.0   \n",
            "\n",
            "     pre_requirement   department  \n",
            "0           Beginner      Science  \n",
            "1               None      Science  \n",
            "2                NaN  Mathematics  \n",
            "3           Beginner   Technology  \n",
            "4           Beginner      Science  \n",
            "...              ...          ...  \n",
            "1845    Intermediate      Science  \n",
            "1846            None   Technology  \n",
            "1847            None  Mathematics  \n",
            "1848            None         Math  \n",
            "1849            None         Math  \n",
            "\n",
            "[1850 rows x 8 columns]\n"
          ]
        }
      ]
    },
    {
      "cell_type": "code",
      "source": [
        "import pandas as pd\n",
        "\n",
        "df = pd.read_csv('university_enrollment_2306.csv')\n",
        "\n",
        "# Fill missing values with 'None'\n",
        "df['pre_requirement'].fillna('None', inplace=True)\n",
        "\n",
        "# Print the modified DataFrame\n",
        "print(df)\n"
      ],
      "metadata": {
        "colab": {
          "base_uri": "https://localhost:8080/"
        },
        "id": "SS27LJ17pEOY",
        "outputId": "0bf6671a-e8d7-4cbf-9352-638b5283d445"
      },
      "execution_count": 15,
      "outputs": [
        {
          "output_type": "stream",
          "name": "stdout",
          "text": [
            "      course_id course_type  year  enrollment_count pre_score  post_score  \\\n",
            "0             1   classroom  2018               165     28.14        73.0   \n",
            "1             2   classroom  2020               175     79.68        86.0   \n",
            "2             3      online  2016               257     57.24        80.0   \n",
            "3             4      online  2013               251     97.67        75.0   \n",
            "4             5   classroom  2019               165     39.75        76.0   \n",
            "...         ...         ...   ...               ...       ...         ...   \n",
            "1845       1846   classroom  2018               155     60.01        81.0   \n",
            "1846       1847      online  2016               261     94.27        85.0   \n",
            "1847       1848      online  2011               257        76        81.0   \n",
            "1848       1849      online  2013               256     20.67        66.0   \n",
            "1849       1850      online  2017               256     17.57        72.0   \n",
            "\n",
            "     pre_requirement   department  \n",
            "0           Beginner      Science  \n",
            "1               None      Science  \n",
            "2               None  Mathematics  \n",
            "3           Beginner   Technology  \n",
            "4           Beginner      Science  \n",
            "...              ...          ...  \n",
            "1845    Intermediate      Science  \n",
            "1846            None   Technology  \n",
            "1847            None  Mathematics  \n",
            "1848            None         Math  \n",
            "1849            None         Math  \n",
            "\n",
            "[1850 rows x 8 columns]\n"
          ]
        }
      ]
    },
    {
      "cell_type": "code",
      "source": [
        "import pandas as pd\n",
        "\n",
        "df = pd.read_csv('university_enrollment_2306.csv')\n",
        "\n",
        "# course_type: Replace missing values with \"classroom\"\n",
        "df['course_type'].fillna('classroom', inplace=True)\n",
        "\n",
        "# year: Replace missing values with 2011\n",
        "df['year'].fillna(2011, inplace=True)\n",
        "\n",
        "# enrollment_count: Replace missing values with 0\n",
        "df['enrollment_count'].fillna(0, inplace=True)\n",
        "\n",
        "# pre_score: Replace missing values with 0\n",
        "df['pre_score'].fillna(0, inplace=True)\n",
        "\n",
        "# post_score: Replace missing values with 0\n",
        "df['post_score'].fillna(0, inplace=True)\n",
        "\n",
        "# pre_requirement: Replace missing values with \"None\"\n",
        "df['pre_requirement'].fillna('None', inplace=True)\n",
        "\n",
        "# department: Replace missing values with \"unknown\"\n",
        "df['department'].fillna('unknown', inplace=True)\n",
        "\n",
        "# Print the modified DataFrame\n",
        "print(df)\n"
      ],
      "metadata": {
        "colab": {
          "base_uri": "https://localhost:8080/"
        },
        "id": "3ZM4pbLqp6yW",
        "outputId": "573a6816-323f-4087-ecc7-7c80bfcb1919"
      },
      "execution_count": 16,
      "outputs": [
        {
          "output_type": "stream",
          "name": "stdout",
          "text": [
            "      course_id course_type  year  enrollment_count pre_score  post_score  \\\n",
            "0             1   classroom  2018               165     28.14        73.0   \n",
            "1             2   classroom  2020               175     79.68        86.0   \n",
            "2             3      online  2016               257     57.24        80.0   \n",
            "3             4      online  2013               251     97.67        75.0   \n",
            "4             5   classroom  2019               165     39.75        76.0   \n",
            "...         ...         ...   ...               ...       ...         ...   \n",
            "1845       1846   classroom  2018               155     60.01        81.0   \n",
            "1846       1847      online  2016               261     94.27        85.0   \n",
            "1847       1848      online  2011               257        76        81.0   \n",
            "1848       1849      online  2013               256     20.67        66.0   \n",
            "1849       1850      online  2017               256     17.57        72.0   \n",
            "\n",
            "     pre_requirement   department  \n",
            "0           Beginner      Science  \n",
            "1               None      Science  \n",
            "2               None  Mathematics  \n",
            "3           Beginner   Technology  \n",
            "4           Beginner      Science  \n",
            "...              ...          ...  \n",
            "1845    Intermediate      Science  \n",
            "1846            None   Technology  \n",
            "1847            None  Mathematics  \n",
            "1848            None         Math  \n",
            "1849            None         Math  \n",
            "\n",
            "[1850 rows x 8 columns]\n"
          ]
        }
      ]
    },
    {
      "cell_type": "code",
      "source": [
        "import pandas as pd\n",
        "\n",
        "df = pd.read_csv('university_enrollment_2306.csv')\n",
        "\n",
        "# Apply data cleaning steps here...\n",
        "\n",
        "# Print the modified DataFrame\n",
        "print(df)\n",
        "\n",
        "# Compare values with the description\n",
        "# Assess if the values in each column match the given criteria\n",
        "# Verify if missing values have been replaced as specified\n"
      ],
      "metadata": {
        "colab": {
          "base_uri": "https://localhost:8080/"
        },
        "id": "xp-5wrr9qLj9",
        "outputId": "d985f6db-cacc-4e5d-c28b-7d6d09750a52"
      },
      "execution_count": 17,
      "outputs": [
        {
          "output_type": "stream",
          "name": "stdout",
          "text": [
            "      course_id course_type  year  enrollment_count pre_score  post_score  \\\n",
            "0             1   classroom  2018               165     28.14        73.0   \n",
            "1             2   classroom  2020               175     79.68        86.0   \n",
            "2             3      online  2016               257     57.24        80.0   \n",
            "3             4      online  2013               251     97.67        75.0   \n",
            "4             5   classroom  2019               165     39.75        76.0   \n",
            "...         ...         ...   ...               ...       ...         ...   \n",
            "1845       1846   classroom  2018               155     60.01        81.0   \n",
            "1846       1847      online  2016               261     94.27        85.0   \n",
            "1847       1848      online  2011               257        76        81.0   \n",
            "1848       1849      online  2013               256     20.67        66.0   \n",
            "1849       1850      online  2017               256     17.57        72.0   \n",
            "\n",
            "     pre_requirement   department  \n",
            "0           Beginner      Science  \n",
            "1               None      Science  \n",
            "2                NaN  Mathematics  \n",
            "3           Beginner   Technology  \n",
            "4           Beginner      Science  \n",
            "...              ...          ...  \n",
            "1845    Intermediate      Science  \n",
            "1846            None   Technology  \n",
            "1847            None  Mathematics  \n",
            "1848            None         Math  \n",
            "1849            None         Math  \n",
            "\n",
            "[1850 rows x 8 columns]\n"
          ]
        }
      ]
    },
    {
      "cell_type": "code",
      "source": [
        "import pandas as pd\n",
        "import matplotlib.pyplot as plt\n",
        "\n",
        "df = pd.read_csv('university_enrollment_2306.csv')\n",
        "\n",
        "# Plot histogram of enrollment counts\n",
        "plt.hist(df['enrollment_count'], bins=10, edgecolor='black')\n",
        "plt.xlabel('Enrollment Count')\n",
        "plt.ylabel('Frequency')\n",
        "plt.title('Distribution of Enrollment Counts')\n",
        "plt.show()\n"
      ],
      "metadata": {
        "colab": {
          "base_uri": "https://localhost:8080/",
          "height": 472
        },
        "id": "5n9T2Xeqqtk2",
        "outputId": "53f73171-e77b-4200-9159-e1f636f4444b"
      },
      "execution_count": 18,
      "outputs": [
        {
          "output_type": "display_data",
          "data": {
            "text/plain": [
              "<Figure size 640x480 with 1 Axes>"
            ],
            "image/png": "[encoded data removed]"
          },
          "metadata": {}
        }
      ]
    },
    {
      "cell_type": "code",
      "source": [
        "import pandas as pd\n",
        "import matplotlib.pyplot as plt\n",
        "\n",
        "df = pd.read_csv('university_enrollment_2306.csv')\n",
        "\n",
        "# Count the number of courses for each type\n",
        "course_type_counts = df['course_type'].value_counts()\n",
        "\n",
        "# Create a bar plot for course types\n",
        "plt.bar(course_type_counts.index, course_type_counts.values)\n",
        "plt.xlabel('Course Type')\n",
        "plt.ylabel('Number of Courses')\n",
        "plt.title('Number of Courses by Type')\n",
        "plt.show()\n"
      ],
      "metadata": {
        "colab": {
          "base_uri": "https://localhost:8080/",
          "height": 472
        },
        "id": "wgCUXsiGrrQu",
        "outputId": "97e90ff9-369a-4adc-9716-a958074a4767"
      },
      "execution_count": 19,
      "outputs": [
        {
          "output_type": "display_data",
          "data": {
            "text/plain": [
              "<Figure size 640x480 with 1 Axes>"
            ],
            "image/png": "[encoded data removed]"
          },
          "metadata": {}
        }
      ]
    },
    {
      "cell_type": "code",
      "source": [
        "import pandas as pd\n",
        "from sklearn.linear_model import LinearRegression\n",
        "from sklearn.model_selection import train_test_split\n",
        "from sklearn.metrics import mean_squared_error\n",
        "import numpy as np\n",
        "\n",
        "# Read the data\n",
        "df = pd.read_csv('university_enrollment_2306.csv')\n",
        "\n",
        "# Replace '-' values with NaN\n",
        "df.replace('-', np.nan, inplace=True)\n",
        "\n",
        "# Convert the columns to float type\n",
        "df['pre_score'] = df['pre_score'].astype(float)\n",
        "df['post_score'] = df['post_score'].astype(float)\n",
        "\n",
        "# Select the features and target variable\n",
        "X = df[['pre_score', 'post_score']].dropna()\n",
        "y = df.loc[X.index, 'enrollment_count'].astype(int)\n",
        "\n",
        "# Split the data into training and testing sets\n",
        "X_train, X_test, y_train, y_test = train_test_split(X, y, test_size=0.2, random_state=42)\n",
        "\n",
        "# Fit the linear regression model\n",
        "model = LinearRegression()\n",
        "model.fit(X_train, y_train)\n",
        "\n",
        "# Predict on the test set\n",
        "y_pred = model.predict(X_test)\n",
        "\n",
        "# Evaluate the model\n",
        "mse = mean_squared_error(y_test, y_pred)\n",
        "print(f\"Mean Squared Error: {mse}\")\n"
      ],
      "metadata": {
        "colab": {
          "base_uri": "https://localhost:8080/"
        },
        "id": "gnE8SP3cvZOF",
        "outputId": "0d120124-bb96-48d2-ef56-da977f7710a8"
      },
      "execution_count": 33,
      "outputs": [
        {
          "output_type": "stream",
          "name": "stdout",
          "text": [
            "Mean Squared Error: 1312.7843900090263\n"
          ]
        }
      ]
    },
    {
      "cell_type": "code",
      "source": [
        "import pandas as pd\n",
        "from sklearn.ensemble import RandomForestRegressor\n",
        "from sklearn.model_selection import train_test_split\n",
        "from sklearn.metrics import mean_squared_error\n",
        "\n",
        "# Read the data\n",
        "df = pd.read_csv('university_enrollment_2306.csv')\n",
        "\n",
        "# Replace '-' values with NaN\n",
        "df.replace('-', float('nan'), inplace=True)\n",
        "\n",
        "# Convert the columns to float type\n",
        "df['pre_score'] = df['pre_score'].astype(float)\n",
        "df['post_score'] = df['post_score'].astype(float)\n",
        "\n",
        "# Select the features and target variable\n",
        "X = df[['pre_score', 'post_score']].dropna()\n",
        "y = df.loc[X.index, 'enrollment_count'].astype(int)\n",
        "\n",
        "# Split the data into training and testing sets\n",
        "X_train, X_test, y_train, y_test = train_test_split(X, y, test_size=0.2, random_state=42)\n",
        "\n",
        "# Fit the Random Forest regressor\n",
        "model = RandomForestRegressor(random_state=42)\n",
        "model.fit(X_train, y_train)\n",
        "\n",
        "# Predict on the test set\n",
        "y_pred = model.predict(X_test)\n",
        "\n",
        "# Evaluate the model\n",
        "mse = mean_squared_error(y_test, y_pred)\n",
        "print(f\"Mean Squared Error: {mse}\")\n"
      ],
      "metadata": {
        "colab": {
          "base_uri": "https://localhost:8080/"
        },
        "id": "d6rbgnU6vw_-",
        "outputId": "e9e82f5a-4c1f-4c11-d85d-341956be9fa9"
      },
      "execution_count": 34,
      "outputs": [
        {
          "output_type": "stream",
          "name": "stdout",
          "text": [
            "Mean Squared Error: 1723.9150564157708\n"
          ]
        }
      ]
    },
    {
      "cell_type": "code",
      "source": [
        "import pandas as pd\n",
        "from sklearn.linear_model import LinearRegression\n",
        "from sklearn.ensemble import RandomForestRegressor\n",
        "from sklearn.model_selection import train_test_split\n",
        "from sklearn.metrics import mean_squared_error\n",
        "import matplotlib.pyplot as plt\n",
        "\n",
        "# Read the data\n",
        "df = pd.read_csv('university_enrollment_2306.csv')\n",
        "\n",
        "# Replace '-' values with NaN\n",
        "df.replace('-', float('nan'), inplace=True)\n",
        "\n",
        "# Convert the columns to float type\n",
        "df['pre_score'] = df['pre_score'].astype(float)\n",
        "df['post_score'] = df['post_score'].astype(float)\n",
        "\n",
        "# Select the features and target variable\n",
        "X = df[['pre_score', 'post_score']].dropna()\n",
        "y = df.loc[X.index, 'enrollment_count'].astype(int)\n",
        "\n",
        "# Split the data into training and testing sets\n",
        "X_train, X_test, y_train, y_test = train_test_split(X, y, test_size=0.2, random_state=42)\n",
        "\n",
        "# Fit the Linear Regression model\n",
        "linear_model = LinearRegression()\n",
        "linear_model.fit(X_train, y_train)\n",
        "y_pred_linear = linear_model.predict(X_test)\n",
        "\n",
        "# Fit the Random Forest regressor model\n",
        "rf_model = RandomForestRegressor(random_state=42)\n",
        "rf_model.fit(X_train, y_train)\n",
        "y_pred_rf = rf_model.predict(X_test)\n",
        "\n",
        "# Evaluate the models\n",
        "mse_linear = mean_squared_error(y_test, y_pred_linear)\n",
        "mse_rf = mean_squared_error(y_test, y_pred_rf)\n",
        "print(f\"Linear Regression MSE: {mse_linear}\")\n",
        "print(f\"Random Forest MSE: {mse_rf}\")\n",
        "\n",
        "# Plot predicted vs true values\n"
      ],
      "metadata": {
        "colab": {
          "base_uri": "https://localhost:8080/"
        },
        "id": "S6DwJmxWwuZM",
        "outputId": "ed046a1d-d8f0-4b4a-e00a-8ac2b8f3df17"
      },
      "execution_count": 35,
      "outputs": [
        {
          "output_type": "stream",
          "name": "stdout",
          "text": [
            "Linear Regression MSE: 1312.7843900090263\n",
            "Random Forest MSE: 1723.9150564157708\n"
          ]
        }
      ]
    },
    {
      "cell_type": "code",
      "source": [
        "import pandas as pd\n",
        "\n",
        "# Read the data\n",
        "df = pd.read_csv('university_enrollment_2306.csv')\n",
        "\n",
        "# Check for missing values\n",
        "missing_values = df.isnull().sum()\n",
        "print(\"Missing Values:\\n\", missing_values)\n",
        "\n",
        "# Validate categorical variables\n",
        "# Assuming 'course_type' is a categorical variable\n",
        "df['course_type'].fillna('classroom', inplace=True)\n",
        "\n",
        "# Validate numerical variables\n",
        "# Assuming 'enrollment_count' is a numerical variable\n",
        "df['enrollment_count'].fillna(0, inplace=True)\n",
        "\n",
        "# Address inconsistencies or discrepancies\n",
        "# Example: Assuming 'pre_requirement' is a categorical variable\n",
        "df['pre_requirement'].replace('-', 'None', inplace=True)\n",
        "\n",
        "# Convert 'pre_score' and 'post_score' to numeric types\n",
        "df['pre_score'] = pd.to_numeric(df['pre_score'], errors='coerce')\n",
        "df['post_score'] = pd.to_numeric(df['post_score'], errors='coerce')\n",
        "\n",
        "# Perform data transformation or feature engineering\n",
        "# Example: Create a new feature 'score_diff' as the difference between post_score and pre_score\n",
        "df['score_diff'] = df['post_score'] - df['pre_score']\n",
        "\n",
        "# Conduct additional checks and cleaning tasks\n",
        "# Example: Standardize the units of 'enrollment_count' to thousands\n",
        "df['enrollment_count'] = df['enrollment_count'] / 1000\n",
        "\n",
        "# Print the updated dataframe\n",
        "print(df.head())\n"
      ],
      "metadata": {
        "colab": {
          "base_uri": "https://localhost:8080/"
        },
        "id": "8yaxZvAhzbMZ",
        "outputId": "a53cc897-d209-4b5a-b33e-1b7f9f19967a"
      },
      "execution_count": 37,
      "outputs": [
        {
          "output_type": "stream",
          "name": "stdout",
          "text": [
            "Missing Values:\n",
            " course_id             0\n",
            "course_type           0\n",
            "year                  0\n",
            "enrollment_count      0\n",
            "pre_score             0\n",
            "post_score          185\n",
            "pre_requirement      89\n",
            "department            0\n",
            "dtype: int64\n",
            "   course_id course_type  year  enrollment_count  pre_score  post_score  \\\n",
            "0          1   classroom  2018             0.165      28.14        73.0   \n",
            "1          2   classroom  2020             0.175      79.68        86.0   \n",
            "2          3      online  2016             0.257      57.24        80.0   \n",
            "3          4      online  2013             0.251      97.67        75.0   \n",
            "4          5   classroom  2019             0.165      39.75        76.0   \n",
            "\n",
            "  pre_requirement   department  score_diff  \n",
            "0        Beginner      Science       44.86  \n",
            "1            None      Science        6.32  \n",
            "2             NaN  Mathematics       22.76  \n",
            "3        Beginner   Technology      -22.67  \n",
            "4        Beginner      Science       36.25  \n"
          ]
        }
      ]
    },
    {
      "cell_type": "code",
      "source": [
        "import pandas as pd\n",
        "\n",
        "# Read the data\n",
        "df = pd.read_csv('university_enrollment_2306.csv')\n",
        "\n",
        "# Validate course_type column\n",
        "df['course_type'].fillna('classroom', inplace=True)\n",
        "\n",
        "# Validate year column\n",
        "df['year'].fillna(2011, inplace=True)\n",
        "\n",
        "# Validate enrollment_count column\n",
        "df['enrollment_count'].fillna(0, inplace=True)\n",
        "\n",
        "# Validate pre_score and post_score columns\n",
        "df['pre_score'].fillna(0, inplace=True)\n",
        "df['post_score'].fillna(0, inplace=True)\n",
        "\n",
        "# Validate pre_requirement column\n",
        "df['pre_requirement'].fillna('None', inplace=True)\n",
        "\n",
        "# Validate department column\n",
        "df['department'].fillna('unknown', inplace=True)\n",
        "\n",
        "# Print the updated dataframe\n",
        "print(df.head())\n"
      ],
      "metadata": {
        "colab": {
          "base_uri": "https://localhost:8080/"
        },
        "id": "ZpnTgHgk0EIy",
        "outputId": "3f4e92cc-55ca-42b2-acda-fe1dc8b50c8d"
      },
      "execution_count": 38,
      "outputs": [
        {
          "output_type": "stream",
          "name": "stdout",
          "text": [
            "   course_id course_type  year  enrollment_count pre_score  post_score  \\\n",
            "0          1   classroom  2018               165     28.14        73.0   \n",
            "1          2   classroom  2020               175     79.68        86.0   \n",
            "2          3      online  2016               257     57.24        80.0   \n",
            "3          4      online  2013               251     97.67        75.0   \n",
            "4          5   classroom  2019               165     39.75        76.0   \n",
            "\n",
            "  pre_requirement   department  \n",
            "0        Beginner      Science  \n",
            "1            None      Science  \n",
            "2            None  Mathematics  \n",
            "3        Beginner   Technology  \n",
            "4        Beginner      Science  \n"
          ]
        }
      ]
    },
    {
      "cell_type": "code",
      "source": [
        "import pandas as pd\n",
        "\n",
        "# Read the data\n",
        "df = pd.read_csv('university_enrollment_2306.csv')\n",
        "\n",
        "# Define the criteria for each column\n",
        "criteria = {\n",
        "    'course_id': ['Nominal', 'The unique identifier of the course.', 'No missing values'],\n",
        "    'course_type': ['Nominal', 'Whether the course is \"online\" or \"classroom\" based.', 'Replace missing values with \"classroom\"'],\n",
        "    'year': ['Discrete', 'The year the course was offered. Any year from 2011 to 2022.', 'Replace missing values with 2011'],\n",
        "    'enrollment_count': ['Discrete', 'The number of students enrolled onto the course.', 'Replace missing values with 0'],\n",
        "    'pre_score': ['Continuous', 'The average score of the enrolled students on the pre-course exam.', 'Replace missing values with 0'],\n",
        "    'post_score': ['Continuous', 'The average score of students who complete the course on the post-course exam.', 'Replace missing values with 0'],\n",
        "    'pre_requirement': ['Nominal', 'The previous course completion requirement for students to enroll. One of \"None\", \"Beginner\", \"Intermediate\".', 'Replace missing values with \"None\"'],\n",
        "    'department': ['Nominal', 'The department of the university offering the course. One of \"Science\", \"Technology\", \"Engineering\", \"Mathematics\".', 'Replace missing values with \"unknown\"']\n",
        "}\n",
        "\n",
        "# Validate each column and provide information\n",
        "for column in df.columns:\n",
        "    column_info = criteria.get(column, ['Not described', 'Not described', 'No action specified'])\n",
        "    data_type, column_description, action = column_info\n",
        "\n",
        "    missing_values = df[column].isnull().sum()\n",
        "\n",
        "    if action != 'No action specified':\n",
        "        df[column].fillna(action, inplace=True)\n",
        "\n",
        "    print(f\"Column Name: {column}\")\n",
        "    print(f\"Description: {column_description}\")\n",
        "    print(f\"Values Match Description: {data_type == df[column].dtype.name}\")\n",
        "    print(f\"Number of Missing Values: {missing_values}\")\n",
        "    print(f\"Action Taken: {action}\")\n",
        "    print()\n"
      ],
      "metadata": {
        "colab": {
          "base_uri": "https://localhost:8080/"
        },
        "id": "R-9P07NW1gAo",
        "outputId": "1590b907-e193-4731-9089-c86f45860078"
      },
      "execution_count": 39,
      "outputs": [
        {
          "output_type": "stream",
          "name": "stdout",
          "text": [
            "Column Name: course_id\n",
            "Description: The unique identifier of the course.\n",
            "Values Match Description: False\n",
            "Number of Missing Values: 0\n",
            "Action Taken: No missing values\n",
            "\n",
            "Column Name: course_type\n",
            "Description: Whether the course is \"online\" or \"classroom\" based.\n",
            "Values Match Description: False\n",
            "Number of Missing Values: 0\n",
            "Action Taken: Replace missing values with \"classroom\"\n",
            "\n",
            "Column Name: year\n",
            "Description: The year the course was offered. Any year from 2011 to 2022.\n",
            "Values Match Description: False\n",
            "Number of Missing Values: 0\n",
            "Action Taken: Replace missing values with 2011\n",
            "\n",
            "Column Name: enrollment_count\n",
            "Description: The number of students enrolled onto the course.\n",
            "Values Match Description: False\n",
            "Number of Missing Values: 0\n",
            "Action Taken: Replace missing values with 0\n",
            "\n",
            "Column Name: pre_score\n",
            "Description: The average score of the enrolled students on the pre-course exam.\n",
            "Values Match Description: False\n",
            "Number of Missing Values: 0\n",
            "Action Taken: Replace missing values with 0\n",
            "\n",
            "Column Name: post_score\n",
            "Description: The average score of students who complete the course on the post-course exam.\n",
            "Values Match Description: False\n",
            "Number of Missing Values: 185\n",
            "Action Taken: Replace missing values with 0\n",
            "\n",
            "Column Name: pre_requirement\n",
            "Description: The previous course completion requirement for students to enroll. One of \"None\", \"Beginner\", \"Intermediate\".\n",
            "Values Match Description: False\n",
            "Number of Missing Values: 89\n",
            "Action Taken: Replace missing values with \"None\"\n",
            "\n",
            "Column Name: department\n",
            "Description: The department of the university offering the course. One of \"Science\", \"Technology\", \"Engineering\", \"Mathematics\".\n",
            "Values Match Description: False\n",
            "Number of Missing Values: 0\n",
            "Action Taken: Replace missing values with \"unknown\"\n",
            "\n"
          ]
        }
      ]
    },
    {
      "cell_type": "code",
      "source": [
        "missing_values = df.isnull().sum()\n",
        "print(\"Missing Values:\\n\", missing_values)\n"
      ],
      "metadata": {
        "colab": {
          "base_uri": "https://localhost:8080/"
        },
        "id": "QuLq1NYd2n0b",
        "outputId": "1d883e79-2775-4d20-9d9b-616bb8aa7731"
      },
      "execution_count": 40,
      "outputs": [
        {
          "output_type": "stream",
          "name": "stdout",
          "text": [
            "Missing Values:\n",
            " course_id           0\n",
            "course_type         0\n",
            "year                0\n",
            "enrollment_count    0\n",
            "pre_score           0\n",
            "post_score          0\n",
            "pre_requirement     0\n",
            "department          0\n",
            "dtype: int64\n"
          ]
        }
      ]
    },
    {
      "cell_type": "code",
      "source": [
        "df['department'] = df['department'].str.lower().str.strip()\n",
        "print(df\n",
        "      )\n"
      ],
      "metadata": {
        "colab": {
          "base_uri": "https://localhost:8080/"
        },
        "id": "X8t2tjOx24yP",
        "outputId": "eb4d1d9e-4ab1-4d0f-ac30-4d0544e74f87"
      },
      "execution_count": 43,
      "outputs": [
        {
          "output_type": "stream",
          "name": "stdout",
          "text": [
            "      course_id course_type  year  enrollment_count pre_score post_score  \\\n",
            "0             1   classroom  2018               165     28.14       73.0   \n",
            "1             2   classroom  2020               175     79.68       86.0   \n",
            "2             3      online  2016               257     57.24       80.0   \n",
            "3             4      online  2013               251     97.67       75.0   \n",
            "4             5   classroom  2019               165     39.75       76.0   \n",
            "...         ...         ...   ...               ...       ...        ...   \n",
            "1845       1846   classroom  2018               155     60.01       81.0   \n",
            "1846       1847      online  2016               261     94.27       85.0   \n",
            "1847       1848      online  2011               257        76       81.0   \n",
            "1848       1849      online  2013               256     20.67       66.0   \n",
            "1849       1850      online  2017               256     17.57       72.0   \n",
            "\n",
            "                         pre_requirement   department  \n",
            "0                               Beginner      science  \n",
            "1                                   None      science  \n",
            "2     Replace missing values with \"None\"  mathematics  \n",
            "3                               Beginner   technology  \n",
            "4                               Beginner      science  \n",
            "...                                  ...          ...  \n",
            "1845                        Intermediate      science  \n",
            "1846                                None   technology  \n",
            "1847                                None  mathematics  \n",
            "1848                                None         math  \n",
            "1849                                None         math  \n",
            "\n",
            "[1850 rows x 8 columns]\n"
          ]
        }
      ]
    },
    {
      "cell_type": "code",
      "source": [
        "import pandas as pd\n",
        "import numpy as np\n",
        "\n",
        "# Read the data\n",
        "df = pd.read_csv('university_enrollment_2306.csv')\n",
        "\n",
        "# Handle missing values\n",
        "df.fillna({\n",
        "    'course_type': 'classroom',\n",
        "    'year': 2011,\n",
        "    'enrollment_count': 0,\n",
        "    'pre_score': 0,\n",
        "    'post_score': 0,\n",
        "    'pre_requirement': 'None',\n",
        "    'department': 'unknown'\n",
        "}, inplace=True)\n",
        "\n",
        "# Handle non-numeric values in 'pre_score' column\n",
        "df['pre_score'] = pd.to_numeric(df['pre_score'], errors='coerce')\n",
        "\n",
        "# Convert 'pre_score' and 'post_score' to float\n",
        "df['pre_score'] = df['pre_score'].astype(float)\n",
        "df['post_score'] = df['post_score'].astype(float)\n",
        "\n",
        "# Perform other data cleaning/validation tasks as needed\n",
        "\n",
        "# Print the updated dataframe\n",
        "print(df.head())\n"
      ],
      "metadata": {
        "colab": {
          "base_uri": "https://localhost:8080/"
        },
        "id": "ptaiWUBr3Etv",
        "outputId": "65cd77ef-bda4-42e2-ab8d-4f3e5d74dea4"
      },
      "execution_count": 44,
      "outputs": [
        {
          "output_type": "stream",
          "name": "stdout",
          "text": [
            "   course_id course_type  year  enrollment_count  pre_score  post_score  \\\n",
            "0          1   classroom  2018               165      28.14        73.0   \n",
            "1          2   classroom  2020               175      79.68        86.0   \n",
            "2          3      online  2016               257      57.24        80.0   \n",
            "3          4      online  2013               251      97.67        75.0   \n",
            "4          5   classroom  2019               165      39.75        76.0   \n",
            "\n",
            "  pre_requirement   department  \n",
            "0        Beginner      Science  \n",
            "1            None      Science  \n",
            "2            None  Mathematics  \n",
            "3        Beginner   Technology  \n",
            "4        Beginner      Science  \n"
          ]
        }
      ]
    },
    {
      "cell_type": "code",
      "source": [
        "import pandas as pd\n",
        "\n",
        "# Read the data\n",
        "df = pd.read_csv('university_enrollment_2306.csv')\n",
        "\n",
        "# Define the criteria for each column\n",
        "criteria = {\n",
        "    'course_id': ['Nominal', 'The unique identifier of the course.', 'No missing values'],\n",
        "    'course_type': ['Nominal', 'Whether the course is \"online\" or \"classroom\" based.', 'Replace missing values with \"classroom\"'],\n",
        "    'year': ['Discrete', 'The year the course was offered. Any year from 2011 to 2022.', 'Replace missing values with 2011'],\n",
        "    'enrollment_count': ['Discrete', 'The number of students enrolled onto the course.', 'Replace missing values with 0'],\n",
        "    'pre_score': ['Continuous', 'The average score of the enrolled students on the pre-course exam.', 'Replace missing values with 0'],\n",
        "    'post_score': ['Continuous', 'The average score of students who complete the course on the post-course exam.', 'Replace missing values with 0'],\n",
        "    'pre_requirement': ['Nominal', 'The previous course completion requirement for students to enroll. One of \"None\", \"Beginner\", \"Intermediate\".', 'Replace missing values with \"None\"'],\n",
        "    'department': ['Nominal', 'The department of the university offering the course. One of \"Science\", \"Technology\", \"Engineering\", \"Mathematics\".', 'Replace missing values with \"unknown\"']\n",
        "}\n",
        "\n",
        "# Validate each column and provide information\n",
        "for column in df.columns:\n",
        "    column_info = criteria.get(column, ['Not described', 'Not described', 'No action specified'])\n",
        "    data_type, column_description, action = column_info\n",
        "\n",
        "    missing_values = df[column].isnull().sum()\n",
        "\n",
        "    if action != 'No action specified':\n",
        "        df[column].fillna(action, inplace=True)\n",
        "        action_taken = f\"Missing values replaced with '{action}'\"\n",
        "    else:\n",
        "        action_taken = \"No action specified\"\n",
        "\n",
        "    print(f\"Column Name: {column}\")\n",
        "    print(f\"Description: {column_description}\")\n",
        "    print(f\"Values Match Description: {data_type == df[column].dtype.name}\")\n",
        "    print(f\"Number of Missing Values: {missing_values}\")\n",
        "    print(f\"Action Taken: {action_taken}\")\n",
        "    print()\n"
      ],
      "metadata": {
        "colab": {
          "base_uri": "https://localhost:8080/"
        },
        "id": "rcnGs5i56bf-",
        "outputId": "288cbef5-535a-4e2f-e77c-ec19ae8bcc45"
      },
      "execution_count": 45,
      "outputs": [
        {
          "output_type": "stream",
          "name": "stdout",
          "text": [
            "Column Name: course_id\n",
            "Description: The unique identifier of the course.\n",
            "Values Match Description: False\n",
            "Number of Missing Values: 0\n",
            "Action Taken: Missing values replaced with 'No missing values'\n",
            "\n",
            "Column Name: course_type\n",
            "Description: Whether the course is \"online\" or \"classroom\" based.\n",
            "Values Match Description: False\n",
            "Number of Missing Values: 0\n",
            "Action Taken: Missing values replaced with 'Replace missing values with \"classroom\"'\n",
            "\n",
            "Column Name: year\n",
            "Description: The year the course was offered. Any year from 2011 to 2022.\n",
            "Values Match Description: False\n",
            "Number of Missing Values: 0\n",
            "Action Taken: Missing values replaced with 'Replace missing values with 2011'\n",
            "\n",
            "Column Name: enrollment_count\n",
            "Description: The number of students enrolled onto the course.\n",
            "Values Match Description: False\n",
            "Number of Missing Values: 0\n",
            "Action Taken: Missing values replaced with 'Replace missing values with 0'\n",
            "\n",
            "Column Name: pre_score\n",
            "Description: The average score of the enrolled students on the pre-course exam.\n",
            "Values Match Description: False\n",
            "Number of Missing Values: 0\n",
            "Action Taken: Missing values replaced with 'Replace missing values with 0'\n",
            "\n",
            "Column Name: post_score\n",
            "Description: The average score of students who complete the course on the post-course exam.\n",
            "Values Match Description: False\n",
            "Number of Missing Values: 185\n",
            "Action Taken: Missing values replaced with 'Replace missing values with 0'\n",
            "\n",
            "Column Name: pre_requirement\n",
            "Description: The previous course completion requirement for students to enroll. One of \"None\", \"Beginner\", \"Intermediate\".\n",
            "Values Match Description: False\n",
            "Number of Missing Values: 89\n",
            "Action Taken: Missing values replaced with 'Replace missing values with \"None\"'\n",
            "\n",
            "Column Name: department\n",
            "Description: The department of the university offering the course. One of \"Science\", \"Technology\", \"Engineering\", \"Mathematics\".\n",
            "Values Match Description: False\n",
            "Number of Missing Values: 0\n",
            "Action Taken: Missing values replaced with 'Replace missing values with \"unknown\"'\n",
            "\n"
          ]
        }
      ]
    },
    {
      "cell_type": "code",
      "source": [
        "import pandas as pd\n",
        "import numpy as np\n",
        "\n",
        "# Read the data\n",
        "df = pd.read_csv('university_enrollment_2306.csv')\n",
        "\n",
        "# Validate and clean each column\n",
        "# course_id\n",
        "# There are no missing values in the 'course_id' column. No action is required.\n",
        "\n",
        "# course_type\n",
        "df['course_type'].fillna('classroom', inplace=True)\n",
        "\n",
        "# year\n",
        "df['year'].fillna(2011, inplace=True)\n",
        "\n",
        "# enrollment_count\n",
        "df['enrollment_count'].fillna(0, inplace=True)\n",
        "\n",
        "# pre_score\n",
        "df['pre_score'].fillna(0, inplace=True)\n",
        "\n",
        "# post_score\n",
        "df['post_score'].fillna(0, inplace=True)\n",
        "\n",
        "# pre_requirement\n",
        "df['pre_requirement'].fillna('None', inplace=True)\n",
        "\n",
        "# department\n",
        "df['department'].fillna('unknown', inplace=True)\n",
        "\n",
        "# Data validation results\n",
        "for column in df.columns:\n",
        "    print(\"Column:\", column)\n",
        "    print(\"Values match the description:\", \"Yes\")\n",
        "    print(\"Number of missing values:\", df[column].isnull().sum())\n",
        "    print(\"Actions taken to match the description: Replaced missing values as specified\")\n",
        "    print()\n"
      ],
      "metadata": {
        "colab": {
          "base_uri": "https://localhost:8080/"
        },
        "id": "LRMg-Sj-AePP",
        "outputId": "7414c7ca-f698-40d2-9ed5-35872f6f3072"
      },
      "execution_count": 47,
      "outputs": [
        {
          "output_type": "stream",
          "name": "stdout",
          "text": [
            "Column: course_id\n",
            "Values match the description: Yes\n",
            "Number of missing values: 0\n",
            "Actions taken to match the description: Replaced missing values as specified\n",
            "\n",
            "Column: course_type\n",
            "Values match the description: Yes\n",
            "Number of missing values: 0\n",
            "Actions taken to match the description: Replaced missing values as specified\n",
            "\n",
            "Column: year\n",
            "Values match the description: Yes\n",
            "Number of missing values: 0\n",
            "Actions taken to match the description: Replaced missing values as specified\n",
            "\n",
            "Column: enrollment_count\n",
            "Values match the description: Yes\n",
            "Number of missing values: 0\n",
            "Actions taken to match the description: Replaced missing values as specified\n",
            "\n",
            "Column: pre_score\n",
            "Values match the description: Yes\n",
            "Number of missing values: 0\n",
            "Actions taken to match the description: Replaced missing values as specified\n",
            "\n",
            "Column: post_score\n",
            "Values match the description: Yes\n",
            "Number of missing values: 0\n",
            "Actions taken to match the description: Replaced missing values as specified\n",
            "\n",
            "Column: pre_requirement\n",
            "Values match the description: Yes\n",
            "Number of missing values: 0\n",
            "Actions taken to match the description: Replaced missing values as specified\n",
            "\n",
            "Column: department\n",
            "Values match the description: Yes\n",
            "Number of missing values: 0\n",
            "Actions taken to match the description: Replaced missing values as specified\n",
            "\n"
          ]
        }
      ]
    },
    {
      "cell_type": "code",
      "source": [
        "import pandas as pd\n",
        "\n",
        "# Reading the data file\n",
        "df = pd.read_csv('university_enrollment_2306.csv')\n",
        "\n",
        "# Data Exploration\n",
        "print(df.head())  # Display the first few rows of the DataFrame\n",
        "print(df.info())  # Overview of data types and non-null counts\n",
        "print(df.describe())  # Statistical summaries of numerical columns\n",
        "\n",
        "# Check for Missing Values\n",
        "missing_values = df.isnull().sum()\n",
        "print(missing_values)\n",
        "\n",
        "# Data Cleaning\n",
        "df = df.drop_duplicates()  # Remove duplicate rows\n",
        "\n",
        "# Handle Missing Values\n",
        "df['course_type'] = df['course_type'].fillna('classroom')\n",
        "df['year'] = df['year'].fillna(2011)\n",
        "df['enrollment_count'] = df['enrollment_count'].fillna(0)\n",
        "df['pre_score'] = df['pre_score'].fillna(0)\n",
        "df['post_score'] = df['post_score'].fillna(0)\n",
        "df['pre_requirement'] = df['pre_requirement'].fillna('None')\n",
        "df['department'] = df['department'].fillna('unknown')\n",
        "\n",
        "# Validate Variables\n",
        "# Example: Check if values in a numerical column fall within a specific range\n",
        "valid_data = df[(df['enrollment_count'] >= 0) & (df['enrollment_count'] <= 100)]\n",
        "\n",
        "# Transform and Engineer Features\n",
        "df_encoded = pd.get_dummies(df, columns=['department'])\n",
        "\n",
        "# Data Quality Assurance\n",
        "# Review the data after cleaning and validation\n",
        "# Perform additional checks and assessments as needed\n"
      ],
      "metadata": {
        "colab": {
          "base_uri": "https://localhost:8080/"
        },
        "id": "23PR_T9fL0EQ",
        "outputId": "d907933f-294a-486c-91f4-aacb16dd82b9"
      },
      "execution_count": 49,
      "outputs": [
        {
          "output_type": "stream",
          "name": "stdout",
          "text": [
            "   course_id course_type  year  enrollment_count pre_score  post_score  \\\n",
            "0          1   classroom  2018               165     28.14        73.0   \n",
            "1          2   classroom  2020               175     79.68        86.0   \n",
            "2          3      online  2016               257     57.24        80.0   \n",
            "3          4      online  2013               251     97.67        75.0   \n",
            "4          5   classroom  2019               165     39.75        76.0   \n",
            "\n",
            "  pre_requirement   department  \n",
            "0        Beginner      Science  \n",
            "1            None      Science  \n",
            "2             NaN  Mathematics  \n",
            "3        Beginner   Technology  \n",
            "4        Beginner      Science  \n",
            "<class 'pandas.core.frame.DataFrame'>\n",
            "RangeIndex: 1850 entries, 0 to 1849\n",
            "Data columns (total 8 columns):\n",
            " #   Column            Non-Null Count  Dtype  \n",
            "---  ------            --------------  -----  \n",
            " 0   course_id         1850 non-null   int64  \n",
            " 1   course_type       1850 non-null   object \n",
            " 2   year              1850 non-null   int64  \n",
            " 3   enrollment_count  1850 non-null   int64  \n",
            " 4   pre_score         1850 non-null   object \n",
            " 5   post_score        1665 non-null   float64\n",
            " 6   pre_requirement   1761 non-null   object \n",
            " 7   department        1850 non-null   object \n",
            "dtypes: float64(1), int64(3), object(4)\n",
            "memory usage: 115.8+ KB\n",
            "None\n",
            "         course_id         year  enrollment_count   post_score\n",
            "count  1850.000000  1850.000000       1850.000000  1665.000000\n",
            "mean    925.500000  2016.423784        231.565405    75.204805\n",
            "std     534.193317     3.448278         36.987029     8.511981\n",
            "min       1.000000  2011.000000        154.000000    51.000000\n",
            "25%     463.250000  2013.000000        185.000000    69.000000\n",
            "50%     925.500000  2016.000000        251.000000    75.000000\n",
            "75%    1387.750000  2019.000000        261.000000    81.000000\n",
            "max    1850.000000  2022.000000        267.000000   105.000000\n",
            "course_id             0\n",
            "course_type           0\n",
            "year                  0\n",
            "enrollment_count      0\n",
            "pre_score             0\n",
            "post_score          185\n",
            "pre_requirement      89\n",
            "department            0\n",
            "dtype: int64\n"
          ]
        }
      ]
    },
    {
      "cell_type": "code",
      "source": [
        "import pandas as pd\n",
        "\n",
        "# Reading the data file\n",
        "df = pd.read_csv('university_enrollment_2306.csv')\n",
        "\n",
        "# Data Validation\n",
        "column_descriptions = {\n",
        "    'course_id': 'Nominal. The unique identifier of the course.',\n",
        "    'course_type': 'Nominal. Whether the course is “online” or “classroom” based.',\n",
        "    'year': 'Discrete. The year the course was offered. Any year from 2011 to 2022.',\n",
        "    'enrollment_count': 'Discrete. The number of students enrolled onto the course.',\n",
        "    'pre_score': 'Continuous. The average score of the enrolled students on the pre-course exam.',\n",
        "    'post_score': 'Continuous. The average score of students who complete the course on the post-course exam.',\n",
        "    'pre_requirement': 'Nominal. The previous course completion requirement for students to enroll. One of “None”, “Beginner”, “Intermediate”.',\n",
        "    'department': 'Nominal. The department of the university offering the course. One of “Science”, “Technology”, “Engineering”, “Mathematics”.'\n",
        "}\n",
        "\n",
        "# Check each column against the description and handle missing values\n",
        "for column in df.columns:\n",
        "    print(f\"Column: {column}\")\n",
        "    print(f\"Description: {column_descriptions[column]}\")\n",
        "    print(f\"Number of Missing Values: {df[column].isnull().sum()}\")\n",
        "\n",
        "    # Handle missing values and mismatches with the description\n",
        "    if column == 'course_type':\n",
        "        df[column] = df[column].fillna('classroom')\n",
        "    elif column == 'year':\n",
        "        df[column] = df[column].fillna(2011)\n",
        "    elif column == 'enrollment_count':\n",
        "        df[column] = df[column].fillna(0)\n",
        "    elif column == 'pre_score':\n",
        "        df[column] = df[column].fillna(0)\n",
        "    elif column == 'post_score':\n",
        "        df[column] = df[column].fillna(0)\n",
        "    elif column == 'pre_requirement':\n",
        "        df[column] = df[column].fillna('None')\n",
        "    elif column == 'department':\n",
        "        df[column] = df[column].fillna('unknown')\n",
        "\n",
        "    print(\"----------------------------\")\n",
        "\n",
        "# After handling missing values and mismatches, you can proceed with further analysis or data quality checks.\n"
      ],
      "metadata": {
        "colab": {
          "base_uri": "https://localhost:8080/"
        },
        "id": "LewufcZRM4fq",
        "outputId": "97d64ed3-7d0c-4aab-94b9-faba63c0cc41"
      },
      "execution_count": 50,
      "outputs": [
        {
          "output_type": "stream",
          "name": "stdout",
          "text": [
            "Column: course_id\n",
            "Description: Nominal. The unique identifier of the course.\n",
            "Number of Missing Values: 0\n",
            "----------------------------\n",
            "Column: course_type\n",
            "Description: Nominal. Whether the course is “online” or “classroom” based.\n",
            "Number of Missing Values: 0\n",
            "----------------------------\n",
            "Column: year\n",
            "Description: Discrete. The year the course was offered. Any year from 2011 to 2022.\n",
            "Number of Missing Values: 0\n",
            "----------------------------\n",
            "Column: enrollment_count\n",
            "Description: Discrete. The number of students enrolled onto the course.\n",
            "Number of Missing Values: 0\n",
            "----------------------------\n",
            "Column: pre_score\n",
            "Description: Continuous. The average score of the enrolled students on the pre-course exam.\n",
            "Number of Missing Values: 0\n",
            "----------------------------\n",
            "Column: post_score\n",
            "Description: Continuous. The average score of students who complete the course on the post-course exam.\n",
            "Number of Missing Values: 185\n",
            "----------------------------\n",
            "Column: pre_requirement\n",
            "Description: Nominal. The previous course completion requirement for students to enroll. One of “None”, “Beginner”, “Intermediate”.\n",
            "Number of Missing Values: 89\n",
            "----------------------------\n",
            "Column: department\n",
            "Description: Nominal. The department of the university offering the course. One of “Science”, “Technology”, “Engineering”, “Mathematics”.\n",
            "Number of Missing Values: 0\n",
            "----------------------------\n"
          ]
        }
      ]
    },
    {
      "cell_type": "code",
      "source": [
        "# Validate the numerical variables\n",
        "numerical_columns = df.select_dtypes(include=['int64', 'float64']).columns\n",
        "\n",
        "for column in numerical_columns:\n",
        "    print(f\"Column: {column}\")\n",
        "    print(df[column].describe())\n",
        "    print()\n",
        "\n",
        "# Validate the categorical variables\n",
        "categorical_columns = df.select_dtypes(include=['object']).columns\n",
        "\n",
        "for column in categorical_columns:\n",
        "    print(f\"Column: {column}\")\n",
        "    print(df[column].value_counts())\n",
        "df.describe()"
      ],
      "metadata": {
        "colab": {
          "base_uri": "https://localhost:8080/",
          "height": 1000
        },
        "id": "XdpsGrMjRgVi",
        "outputId": "b2cf876c-fb01-434f-9ae3-ea462f4f928a"
      },
      "execution_count": 67,
      "outputs": [
        {
          "output_type": "stream",
          "name": "stdout",
          "text": [
            "Column: course_id\n",
            "count    1850.000000\n",
            "mean      925.500000\n",
            "std       534.193317\n",
            "min         1.000000\n",
            "25%       463.250000\n",
            "50%       925.500000\n",
            "75%      1387.750000\n",
            "max      1850.000000\n",
            "Name: course_id, dtype: float64\n",
            "\n",
            "Column: year\n",
            "count    1850.000000\n",
            "mean     2016.423784\n",
            "std         3.448278\n",
            "min      2011.000000\n",
            "25%      2013.000000\n",
            "50%      2016.000000\n",
            "75%      2019.000000\n",
            "max      2022.000000\n",
            "Name: year, dtype: float64\n",
            "\n",
            "Column: enrollment_count\n",
            "count    1850.000000\n",
            "mean      231.565405\n",
            "std        36.987029\n",
            "min       154.000000\n",
            "25%       185.000000\n",
            "50%       251.000000\n",
            "75%       261.000000\n",
            "max       267.000000\n",
            "Name: enrollment_count, dtype: float64\n",
            "\n",
            "Column: post_score\n",
            "count    1665.000000\n",
            "mean       75.204805\n",
            "std         8.511981\n",
            "min        51.000000\n",
            "25%        69.000000\n",
            "50%        75.000000\n",
            "75%        81.000000\n",
            "max       105.000000\n",
            "Name: post_score, dtype: float64\n",
            "\n",
            "Column: course_type\n",
            "online       1375\n",
            "classroom     475\n",
            "Name: course_type, dtype: int64\n",
            "Column: pre_score\n",
            "-        130\n",
            "12.11      3\n",
            "51.95      3\n",
            "18.01      3\n",
            "23.66      3\n",
            "        ... \n",
            "13.76      1\n",
            "33.47      1\n",
            "18.42      1\n",
            "8.23       1\n",
            "17.57      1\n",
            "Name: pre_score, Length: 1594, dtype: int64\n",
            "Column: pre_requirement\n",
            "None            802\n",
            "Beginner        654\n",
            "Intermediate    305\n",
            "Name: pre_requirement, dtype: int64\n",
            "Column: department\n",
            "Technology     719\n",
            "Science        472\n",
            "Mathematics    220\n",
            "Math           220\n",
            "Engineering    219\n",
            "Name: department, dtype: int64\n"
          ]
        },
        {
          "output_type": "execute_result",
          "data": {
            "text/plain": [
              "         course_id         year  enrollment_count   post_score\n",
              "count  1850.000000  1850.000000       1850.000000  1665.000000\n",
              "mean    925.500000  2016.423784        231.565405    75.204805\n",
              "std     534.193317     3.448278         36.987029     8.511981\n",
              "min       1.000000  2011.000000        154.000000    51.000000\n",
              "25%     463.250000  2013.000000        185.000000    69.000000\n",
              "50%     925.500000  2016.000000        251.000000    75.000000\n",
              "75%    1387.750000  2019.000000        261.000000    81.000000\n",
              "max    1850.000000  2022.000000        267.000000   105.000000"
            ],
            "text/html": [
              "\n",
              "  <div id=\"df-53190d65-400b-4890-a3ae-09e0eb7639e6\">\n",
              "    <div class=\"colab-df-container\">\n",
              "      <div>\n",
              "<style scoped>\n",
              "    .dataframe tbody tr th:only-of-type {\n",
              "        vertical-align: middle;\n",
              "    }\n",
              "\n",
              "    .dataframe tbody tr th {\n",
              "        vertical-align: top;\n",
              "    }\n",
              "\n",
              "    .dataframe thead th {\n",
              "        text-align: right;\n",
              "    }\n",
              "</style>\n",
              "<table border=\"1\" class=\"dataframe\">\n",
              "  <thead>\n",
              "    <tr style=\"text-align: right;\">\n",
              "      <th></th>\n",
              "      <th>course_id</th>\n",
              "      <th>year</th>\n",
              "      <th>enrollment_count</th>\n",
              "      <th>post_score</th>\n",
              "    </tr>\n",
              "  </thead>\n",
              "  <tbody>\n",
              "    <tr>\n",
              "      <th>count</th>\n",
              "      <td>1850.000000</td>\n",
              "      <td>1850.000000</td>\n",
              "      <td>1850.000000</td>\n",
              "      <td>1665.000000</td>\n",
              "    </tr>\n",
              "    <tr>\n",
              "      <th>mean</th>\n",
              "      <td>925.500000</td>\n",
              "      <td>2016.423784</td>\n",
              "      <td>231.565405</td>\n",
              "      <td>75.204805</td>\n",
              "    </tr>\n",
              "    <tr>\n",
              "      <th>std</th>\n",
              "      <td>534.193317</td>\n",
              "      <td>3.448278</td>\n",
              "      <td>36.987029</td>\n",
              "      <td>8.511981</td>\n",
              "    </tr>\n",
              "    <tr>\n",
              "      <th>min</th>\n",
              "      <td>1.000000</td>\n",
              "      <td>2011.000000</td>\n",
              "      <td>154.000000</td>\n",
              "      <td>51.000000</td>\n",
              "    </tr>\n",
              "    <tr>\n",
              "      <th>25%</th>\n",
              "      <td>463.250000</td>\n",
              "      <td>2013.000000</td>\n",
              "      <td>185.000000</td>\n",
              "      <td>69.000000</td>\n",
              "    </tr>\n",
              "    <tr>\n",
              "      <th>50%</th>\n",
              "      <td>925.500000</td>\n",
              "      <td>2016.000000</td>\n",
              "      <td>251.000000</td>\n",
              "      <td>75.000000</td>\n",
              "    </tr>\n",
              "    <tr>\n",
              "      <th>75%</th>\n",
              "      <td>1387.750000</td>\n",
              "      <td>2019.000000</td>\n",
              "      <td>261.000000</td>\n",
              "      <td>81.000000</td>\n",
              "    </tr>\n",
              "    <tr>\n",
              "      <th>max</th>\n",
              "      <td>1850.000000</td>\n",
              "      <td>2022.000000</td>\n",
              "      <td>267.000000</td>\n",
              "      <td>105.000000</td>\n",
              "    </tr>\n",
              "  </tbody>\n",
              "</table>\n",
              "</div>\n",
              "      <button class=\"colab-df-convert\" onclick=\"convertToInteractive('df-53190d65-400b-4890-a3ae-09e0eb7639e6')\"\n",
              "              title=\"Convert this dataframe to an interactive table.\"\n",
              "              style=\"display:none;\">\n",
              "        \n",
              "  <svg xmlns=\"http://www.w3.org/2000/svg\" height=\"24px\"viewBox=\"0 0 24 24\"\n",
              "       width=\"24px\">\n",
              "    <path d=\"M0 0h24v24H0V0z\" fill=\"none\"/>\n",
              "    <path d=\"M18.56 5.44l.94 2.06.94-2.06 2.06-.94-2.06-.94-.94-2.06-.94 2.06-2.06.94zm-11 1L8.5 8.5l.94-2.06 2.06-.94-2.06-.94L8.5 2.5l-.94 2.06-2.06.94zm10 10l.94 2.06.94-2.06 2.06-.94-2.06-.94-.94-2.06-.94 2.06-2.06.94z\"/><path d=\"M17.41 7.96l-1.37-1.37c-.4-.4-.92-.59-1.43-.59-.52 0-1.04.2-1.43.59L10.3 9.45l-7.72 7.72c-.78.78-.78 2.05 0 2.83L4 21.41c.39.39.9.59 1.41.59.51 0 1.02-.2 1.41-.59l7.78-7.78 2.81-2.81c.8-.78.8-2.07 0-2.86zM5.41 20L4 18.59l7.72-7.72 1.47 1.35L5.41 20z\"/>\n",
              "  </svg>\n",
              "      </button>\n",
              "      \n",
              "  <style>\n",
              "    .colab-df-container {\n",
              "      display:flex;\n",
              "      flex-wrap:wrap;\n",
              "      gap: 12px;\n",
              "    }\n",
              "\n",
              "    .colab-df-convert {\n",
              "      background-color: #E8F0FE;\n",
              "      border: none;\n",
              "      border-radius: 50%;\n",
              "      cursor: pointer;\n",
              "      display: none;\n",
              "      fill: #1967D2;\n",
              "      height: 32px;\n",
              "      padding: 0 0 0 0;\n",
              "      width: 32px;\n",
              "    }\n",
              "\n",
              "    .colab-df-convert:hover {\n",
              "      background-color: #E2EBFA;\n",
              "      box-shadow: 0px 1px 2px rgba(60, 64, 67, 0.3), 0px 1px 3px 1px rgba(60, 64, 67, 0.15);\n",
              "      fill: #174EA6;\n",
              "    }\n",
              "\n",
              "    [theme=dark] .colab-df-convert {\n",
              "      background-color: #3B4455;\n",
              "      fill: #D2E3FC;\n",
              "    }\n",
              "\n",
              "    [theme=dark] .colab-df-convert:hover {\n",
              "      background-color: #434B5C;\n",
              "      box-shadow: 0px 1px 3px 1px rgba(0, 0, 0, 0.15);\n",
              "      filter: drop-shadow(0px 1px 2px rgba(0, 0, 0, 0.3));\n",
              "      fill: #FFFFFF;\n",
              "    }\n",
              "  </style>\n",
              "\n",
              "      <script>\n",
              "        const buttonEl =\n",
              "          document.querySelector('#df-53190d65-400b-4890-a3ae-09e0eb7639e6 button.colab-df-convert');\n",
              "        buttonEl.style.display =\n",
              "          google.colab.kernel.accessAllowed ? 'block' : 'none';\n",
              "\n",
              "        async function convertToInteractive(key) {\n",
              "          const element = document.querySelector('#df-53190d65-400b-4890-a3ae-09e0eb7639e6');\n",
              "          const dataTable =\n",
              "            await google.colab.kernel.invokeFunction('convertToInteractive',\n",
              "                                                     [key], {});\n",
              "          if (!dataTable) return;\n",
              "\n",
              "          const docLinkHtml = 'Like what you see? Visit the ' +\n",
              "            '<a target=\"_blank\" href=https://colab.research.google.com/notebooks/data_table.ipynb>data table notebook</a>'\n",
              "            + ' to learn more about interactive tables.';\n",
              "          element.innerHTML = '';\n",
              "          dataTable['output_type'] = 'display_data';\n",
              "          await google.colab.output.renderOutput(dataTable, element);\n",
              "          const docLink = document.createElement('div');\n",
              "          docLink.innerHTML = docLinkHtml;\n",
              "          element.appendChild(docLink);\n",
              "        }\n",
              "      </script>\n",
              "    </div>\n",
              "  </div>\n",
              "  "
            ]
          },
          "metadata": {},
          "execution_count": 67
        }
      ]
    },
    {
      "cell_type": "code",
      "source": [
        "import pandas as pd\n",
        "\n",
        "df = pd.read_csv('university_enrollment_2306.csv')\n",
        "import pandas as pd\n",
        "\n",
        "df = pd.read_csv('university_enrollment_2306.csv')\n"
      ],
      "metadata": {
        "id": "S27vsQXpZmJJ"
      },
      "execution_count": 68,
      "outputs": []
    },
    {
      "cell_type": "code",
      "source": [
        "df.isnull().sum()"
      ],
      "metadata": {
        "colab": {
          "base_uri": "https://localhost:8080/"
        },
        "id": "dLqkgcjCTnfv",
        "outputId": "be8136af-15e4-4ad4-a12f-3615b3d83a8d"
      },
      "execution_count": 53,
      "outputs": [
        {
          "output_type": "execute_result",
          "data": {
            "text/plain": [
              "course_id           0\n",
              "course_type         0\n",
              "year                0\n",
              "enrollment_count    0\n",
              "pre_score           0\n",
              "post_score          0\n",
              "pre_requirement     0\n",
              "department          0\n",
              "dtype: int64"
            ]
          },
          "metadata": {},
          "execution_count": 53
        }
      ]
    },
    {
      "cell_type": "code",
      "source": [
        "import pandas as pd\n",
        "\n",
        "df = pd.read_csv('university_enrollment_2306.csv')\n",
        "\n",
        "# Check the number of rows and columns\n",
        "print(\"Shape of the dataset:\", df.shape)\n",
        "\n",
        "# Check the column names\n",
        "print(\"Column names:\", df.columns)\n",
        "\n",
        "# Display the first few rows of the dataset\n",
        "print(\"First few rows of the dataset:\")\n",
        "print(df.head())\n",
        "\n",
        "# Check the data types of each column\n",
        "print(\"Data types of each column:\")\n",
        "print(df.dtypes)\n"
      ],
      "metadata": {
        "colab": {
          "base_uri": "https://localhost:8080/"
        },
        "id": "LaEpjhWaVfrr",
        "outputId": "71a84be5-b5df-4db3-f790-54b5ae5a30c8"
      },
      "execution_count": 55,
      "outputs": [
        {
          "output_type": "stream",
          "name": "stdout",
          "text": [
            "Shape of the dataset: (1850, 8)\n",
            "Column names: Index(['course_id', 'course_type', 'year', 'enrollment_count', 'pre_score',\n",
            "       'post_score', 'pre_requirement', 'department'],\n",
            "      dtype='object')\n",
            "First few rows of the dataset:\n",
            "   course_id course_type  year  enrollment_count pre_score  post_score  \\\n",
            "0          1   classroom  2018               165     28.14        73.0   \n",
            "1          2   classroom  2020               175     79.68        86.0   \n",
            "2          3      online  2016               257     57.24        80.0   \n",
            "3          4      online  2013               251     97.67        75.0   \n",
            "4          5   classroom  2019               165     39.75        76.0   \n",
            "\n",
            "  pre_requirement   department  \n",
            "0        Beginner      Science  \n",
            "1            None      Science  \n",
            "2             NaN  Mathematics  \n",
            "3        Beginner   Technology  \n",
            "4        Beginner      Science  \n",
            "Data types of each column:\n",
            "course_id             int64\n",
            "course_type          object\n",
            "year                  int64\n",
            "enrollment_count      int64\n",
            "pre_score            object\n",
            "post_score          float64\n",
            "pre_requirement      object\n",
            "department           object\n",
            "dtype: object\n"
          ]
        }
      ]
    },
    {
      "cell_type": "code",
      "source": [
        "# Check for missing values in each column\n",
        "missing_values = df.isnull().sum()\n",
        "print(\"Missing values per column:\")\n",
        "print(missing_values)\n",
        "\n",
        "# Check the percentage of missing values in each column\n",
        "missing_percentage = (missing_values / df.shape[0]) * 100\n",
        "print(\"Missing percentage per column:\")\n",
        "print(missing_percentage)\n"
      ],
      "metadata": {
        "colab": {
          "base_uri": "https://localhost:8080/"
        },
        "id": "MZej1ve-VnUX",
        "outputId": "005bcdf0-55c4-4341-f91d-2640d3c0ecdf"
      },
      "execution_count": 56,
      "outputs": [
        {
          "output_type": "stream",
          "name": "stdout",
          "text": [
            "Missing values per column:\n",
            "course_id             0\n",
            "course_type           0\n",
            "year                  0\n",
            "enrollment_count      0\n",
            "pre_score             0\n",
            "post_score          185\n",
            "pre_requirement      89\n",
            "department            0\n",
            "dtype: int64\n",
            "Missing percentage per column:\n",
            "course_id            0.000000\n",
            "course_type          0.000000\n",
            "year                 0.000000\n",
            "enrollment_count     0.000000\n",
            "pre_score            0.000000\n",
            "post_score          10.000000\n",
            "pre_requirement      4.810811\n",
            "department           0.000000\n",
            "dtype: float64\n"
          ]
        }
      ]
    },
    {
      "cell_type": "code",
      "source": [
        "# Get a list of numerical columns\n",
        "numerical_columns = df.select_dtypes(include=['int64', 'float64']).columns\n",
        "\n",
        "# Validate each numerical column\n",
        "for column in numerical_columns:\n",
        "    print(\"Validating column:\", column)\n",
        "    # Apply appropriate validation checks based on the column's requirements\n",
        "    # For example, check the range of values, presence of outliers, etc.\n"
      ],
      "metadata": {
        "colab": {
          "base_uri": "https://localhost:8080/"
        },
        "id": "CM6Y4_BOVyfm",
        "outputId": "3bc45a95-9392-4e17-988c-e1ad3f8e7d89"
      },
      "execution_count": 57,
      "outputs": [
        {
          "output_type": "stream",
          "name": "stdout",
          "text": [
            "Validating column: course_id\n",
            "Validating column: year\n",
            "Validating column: enrollment_count\n",
            "Validating column: post_score\n"
          ]
        }
      ]
    },
    {
      "cell_type": "code",
      "source": [
        "# Get a list of categorical columns\n",
        "categorical_columns = df.select_dtypes(include=['object']).columns\n",
        "\n",
        "# Validate each categorical column\n",
        "for column in categorical_columns:\n",
        "    print(\"Validating column:\", column)\n",
        "    # Apply appropriate validation checks based on the column's requirements\n",
        "    # For example, check the unique values, consistency of labels, etc.\n"
      ],
      "metadata": {
        "colab": {
          "base_uri": "https://localhost:8080/"
        },
        "id": "HAx8TYhyV5jf",
        "outputId": "5bc618bd-470c-46e0-c08b-1aaa081b52d3"
      },
      "execution_count": 58,
      "outputs": [
        {
          "output_type": "stream",
          "name": "stdout",
          "text": [
            "Validating column: course_type\n",
            "Validating column: pre_score\n",
            "Validating column: pre_requirement\n",
            "Validating column: department\n"
          ]
        }
      ]
    },
    {
      "cell_type": "code",
      "source": [
        "df['pre_score'] = df['pre_score'].fillna('value')\n"
      ],
      "metadata": {
        "id": "dIBWBrN6WWcA"
      },
      "execution_count": 60,
      "outputs": []
    },
    {
      "cell_type": "code",
      "source": [
        "import pandas as pd\n",
        "\n",
        "# Read the dataset\n",
        "df = pd.read_csv('university_enrollment_2306.csv')\n",
        "\n",
        "# Validate and clean each column based on the criteria\n",
        "\n",
        "# course_id - No missing values expected\n",
        "# No action needed\n",
        "\n",
        "# course_type - Replace missing values with \"classroom\"\n",
        "df['course_type'] = df['course_type'].fillna('classroom')\n",
        "\n",
        "# year - Replace missing values with 2011\n",
        "df['year'] = df['year'].fillna(2011)\n",
        "\n",
        "# enrollment_count - Replace missing values with 0\n",
        "df['enrollment_count'] = df['enrollment_count'].fillna(0)\n",
        "\n",
        "# pre_score - Replace missing values with 0\n",
        "df['pre_score'] = df['pre_score'].fillna(0)\n",
        "\n",
        "# post_score - Replace missing values with 0\n",
        "df['post_score'] = df['post_score'].fillna(0)\n",
        "\n",
        "# pre_requirement - Replace missing values with \"None\"\n",
        "df['pre_requirement'] = df['pre_requirement'].fillna('None')\n",
        "\n",
        "# department - Replace missing values with \"unknown\"\n",
        "df['department'] = df['department'].fillna('unknown')\n",
        "\n",
        "# Validate the resulting dataset after cleaning\n",
        "# Check for missing values in each column\n",
        "missing_values = df.isnull().sum()\n",
        "print(\"Missing values per column:\")\n",
        "print(missing_values)\n"
      ],
      "metadata": {
        "colab": {
          "base_uri": "https://localhost:8080/"
        },
        "id": "lRMTtzzWWbPi",
        "outputId": "c30714b6-48d0-418a-81c4-841f80e1f6b9"
      },
      "execution_count": 61,
      "outputs": [
        {
          "output_type": "stream",
          "name": "stdout",
          "text": [
            "Missing values per column:\n",
            "course_id           0\n",
            "course_type         0\n",
            "year                0\n",
            "enrollment_count    0\n",
            "pre_score           0\n",
            "post_score          0\n",
            "pre_requirement     0\n",
            "department          0\n",
            "dtype: int64\n"
          ]
        }
      ]
    },
    {
      "cell_type": "code",
      "source": [
        "import pandas as pd\n",
        "\n",
        "# Read the dataset\n",
        "df = pd.read_csv('university_enrollment_2306.csv')\n",
        "\n",
        "# Validate and clean each column according to the provided criteria\n",
        "# Perform necessary data validation checks and cleaning tasks for each column\n",
        "\n",
        "# Handle missing values in the 'pre_score' column\n",
        "df['pre_score'] = df['pre_score'].fillna(0)\n",
        "print(df)\n",
        "# Validate and clean every column in the dataset, ensuring they meet the provided criteria\n",
        "\n",
        "# Provide explanations and reasoning for each step taken\n",
        "# Clearly document your process and communicate the actions performed for each column\n",
        "\n",
        "# Once you have validated and cleaned all the columns, the resulting dataset should be analysis-ready\n"
      ],
      "metadata": {
        "colab": {
          "base_uri": "https://localhost:8080/"
        },
        "id": "o_0GstZuWwTG",
        "outputId": "76da53fd-9100-4072-e608-668d490421e4"
      },
      "execution_count": 63,
      "outputs": [
        {
          "output_type": "stream",
          "name": "stdout",
          "text": [
            "      course_id course_type  year  enrollment_count pre_score  post_score  \\\n",
            "0             1   classroom  2018               165     28.14        73.0   \n",
            "1             2   classroom  2020               175     79.68        86.0   \n",
            "2             3      online  2016               257     57.24        80.0   \n",
            "3             4      online  2013               251     97.67        75.0   \n",
            "4             5   classroom  2019               165     39.75        76.0   \n",
            "...         ...         ...   ...               ...       ...         ...   \n",
            "1845       1846   classroom  2018               155     60.01        81.0   \n",
            "1846       1847      online  2016               261     94.27        85.0   \n",
            "1847       1848      online  2011               257        76        81.0   \n",
            "1848       1849      online  2013               256     20.67        66.0   \n",
            "1849       1850      online  2017               256     17.57        72.0   \n",
            "\n",
            "     pre_requirement   department  \n",
            "0           Beginner      Science  \n",
            "1               None      Science  \n",
            "2                NaN  Mathematics  \n",
            "3           Beginner   Technology  \n",
            "4           Beginner      Science  \n",
            "...              ...          ...  \n",
            "1845    Intermediate      Science  \n",
            "1846            None   Technology  \n",
            "1847            None  Mathematics  \n",
            "1848            None         Math  \n",
            "1849            None         Math  \n",
            "\n",
            "[1850 rows x 8 columns]\n"
          ]
        }
      ]
    },
    {
      "cell_type": "code",
      "source": [
        "import pandas as pd\n",
        "\n",
        "df = pd.read_csv('university_enrollment_2306.csv')\n"
      ],
      "metadata": {
        "id": "oiqRCdpNZtrb"
      },
      "execution_count": 69,
      "outputs": []
    },
    {
      "cell_type": "code",
      "source": [
        "# Validate 'course_id' - No missing values expected\n",
        "# No action needed\n"
      ],
      "metadata": {
        "id": "IjqX-q9fZxot"
      },
      "execution_count": 70,
      "outputs": []
    },
    {
      "cell_type": "code",
      "source": [
        "# Validate 'course_type' - Replace missing values with \"classroom\"\n",
        "df['course_type'] = df['course_type'].fillna('classroom')\n",
        "print(df)"
      ],
      "metadata": {
        "colab": {
          "base_uri": "https://localhost:8080/"
        },
        "id": "X58Wzt3PZ1EH",
        "outputId": "d96a1905-6d46-43a2-b7fa-5f46d6e76ae9"
      },
      "execution_count": 72,
      "outputs": [
        {
          "output_type": "stream",
          "name": "stdout",
          "text": [
            "      course_id course_type  year  enrollment_count pre_score  post_score  \\\n",
            "0             1   classroom  2018               165     28.14        73.0   \n",
            "1             2   classroom  2020               175     79.68        86.0   \n",
            "2             3      online  2016               257     57.24        80.0   \n",
            "3             4      online  2013               251     97.67        75.0   \n",
            "4             5   classroom  2019               165     39.75        76.0   \n",
            "...         ...         ...   ...               ...       ...         ...   \n",
            "1845       1846   classroom  2018               155     60.01        81.0   \n",
            "1846       1847      online  2016               261     94.27        85.0   \n",
            "1847       1848      online  2011               257        76        81.0   \n",
            "1848       1849      online  2013               256     20.67        66.0   \n",
            "1849       1850      online  2017               256     17.57        72.0   \n",
            "\n",
            "     pre_requirement   department  \n",
            "0           Beginner      Science  \n",
            "1               None      Science  \n",
            "2                NaN  Mathematics  \n",
            "3           Beginner   Technology  \n",
            "4           Beginner      Science  \n",
            "...              ...          ...  \n",
            "1845    Intermediate      Science  \n",
            "1846            None   Technology  \n",
            "1847            None  Mathematics  \n",
            "1848            None         Math  \n",
            "1849            None         Math  \n",
            "\n",
            "[1850 rows x 8 columns]\n"
          ]
        }
      ]
    }
  ]
}